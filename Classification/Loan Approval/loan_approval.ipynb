{
    "cells": [
        {
            "cell_type": "code",
            "execution_count": 21,
            "metadata": {},
            "outputs": [],
            "source": [
                "%matplotlib inline\n",
                "import pandas as pd\n",
                "import matplotlib.pyplot as plt\n",
                "from sklearn.preprocessing import LabelEncoder\n",
                "from sklearn.linear_model import LogisticRegression\n",
                "from sklearn.ensemble import RandomForestClassifier\n",
                "from sklearn.ensemble import HistGradientBoostingClassifier\n",
                "from sklearn.ensemble import VotingClassifier\n",
                "from sklearn.ensemble import StackingClassifier\n",
                "from xgboost import XGBClassifier\n",
                "from lightgbm import LGBMClassifier\n",
                "from catboost import CatBoostClassifier\n",
                "from sklearn.model_selection import GridSearchCV\n",
                "from sklearn.model_selection import KFold\n",
                "from sklearn.model_selection import cross_val_score\n",
                "from sklearn.metrics import classification_report\n",
                "from sklearn.metrics import confusion_matrix\n",
                "from sklearn import metrics\n",
                "import seaborn as sns\n",
                "import numpy as np\n",
                "import warnings\n",
                "warnings.filterwarnings('ignore')\n",
                "# import the necessary packages"
            ]
        },
        {
            "cell_type": "code",
            "execution_count": 22,
            "metadata": {},
            "outputs": [],
            "source": [
                "target_column = \"loan_status\""
            ]
        },
        {
            "cell_type": "code",
            "execution_count": 23,
            "metadata": {},
            "outputs": [],
            "source": [
                "pd.set_option('display.max_columns', 200)\n",
                "pd.set_option('display.width', 150)"
            ]
        },
        {
            "cell_type": "code",
            "execution_count": 24,
            "metadata": {},
            "outputs": [],
            "source": [
                "def removeArtifacts(data, original):\n",
                "    for col in data.select_dtypes(include='object').columns:\n",
                "        data[col] = data[col].where(data[col].isin(original[col].unique()), np.nan)\n",
                "# remove categorical artifacts"
            ]
        },
        {
            "cell_type": "code",
            "execution_count": 25,
            "metadata": {},
            "outputs": [],
            "source": [
                "def handleOriginal(original):\n",
                "    original[target_column] = (original[target_column] == \"Yes\")"
            ]
        },
        {
            "cell_type": "code",
            "execution_count": 26,
            "metadata": {},
            "outputs": [],
            "source": [
                "original = pd.read_csv(\"original.csv\")\n",
                "train = pd.read_csv(\"train.csv\")\n",
                "test = pd.read_csv(\"test.csv\")\n",
                "\n",
                "data = pd.concat([train, test]).reset_index(drop=True)"
            ]
        },
        {
            "cell_type": "code",
            "execution_count": 27,
            "metadata": {},
            "outputs": [
                {
                    "name": "stdout",
                    "output_type": "stream",
                    "text": [
                        "<class 'pandas.core.frame.DataFrame'>\n",
                        "RangeIndex: 32581 entries, 0 to 32580\n",
                        "Data columns (total 12 columns):\n",
                        " #   Column                      Non-Null Count  Dtype  \n",
                        "---  ------                      --------------  -----  \n",
                        " 0   person_age                  32581 non-null  int64  \n",
                        " 1   person_income               32581 non-null  int64  \n",
                        " 2   person_home_ownership       32581 non-null  object \n",
                        " 3   person_emp_length           31686 non-null  float64\n",
                        " 4   loan_intent                 32581 non-null  object \n",
                        " 5   loan_grade                  32581 non-null  object \n",
                        " 6   loan_amnt                   32581 non-null  int64  \n",
                        " 7   loan_int_rate               29465 non-null  float64\n",
                        " 8   loan_status                 32581 non-null  int64  \n",
                        " 9   loan_percent_income         32581 non-null  float64\n",
                        " 10  cb_person_default_on_file   32581 non-null  object \n",
                        " 11  cb_person_cred_hist_length  32581 non-null  int64  \n",
                        "dtypes: float64(3), int64(5), object(4)\n",
                        "memory usage: 3.0+ MB\n"
                    ]
                }
            ],
            "source": [
                "original.info()"
            ]
        },
        {
            "cell_type": "code",
            "execution_count": 28,
            "metadata": {},
            "outputs": [
                {
                    "name": "stdout",
                    "output_type": "stream",
                    "text": [
                        "<class 'pandas.core.frame.DataFrame'>\n",
                        "RangeIndex: 58645 entries, 0 to 58644\n",
                        "Data columns (total 13 columns):\n",
                        " #   Column                      Non-Null Count  Dtype  \n",
                        "---  ------                      --------------  -----  \n",
                        " 0   id                          58645 non-null  int64  \n",
                        " 1   person_age                  58645 non-null  int64  \n",
                        " 2   person_income               58645 non-null  int64  \n",
                        " 3   person_home_ownership       58645 non-null  object \n",
                        " 4   person_emp_length           58645 non-null  float64\n",
                        " 5   loan_intent                 58645 non-null  object \n",
                        " 6   loan_grade                  58645 non-null  object \n",
                        " 7   loan_amnt                   58645 non-null  int64  \n",
                        " 8   loan_int_rate               58645 non-null  float64\n",
                        " 9   loan_percent_income         58645 non-null  float64\n",
                        " 10  cb_person_default_on_file   58645 non-null  object \n",
                        " 11  cb_person_cred_hist_length  58645 non-null  int64  \n",
                        " 12  loan_status                 58645 non-null  int64  \n",
                        "dtypes: float64(3), int64(6), object(4)\n",
                        "memory usage: 5.8+ MB\n"
                    ]
                }
            ],
            "source": [
                "train.info()"
            ]
        },
        {
            "cell_type": "code",
            "execution_count": 29,
            "metadata": {},
            "outputs": [
                {
                    "name": "stdout",
                    "output_type": "stream",
                    "text": [
                        "<class 'pandas.core.frame.DataFrame'>\n",
                        "RangeIndex: 39098 entries, 0 to 39097\n",
                        "Data columns (total 12 columns):\n",
                        " #   Column                      Non-Null Count  Dtype  \n",
                        "---  ------                      --------------  -----  \n",
                        " 0   id                          39098 non-null  int64  \n",
                        " 1   person_age                  39098 non-null  int64  \n",
                        " 2   person_income               39098 non-null  int64  \n",
                        " 3   person_home_ownership       39098 non-null  object \n",
                        " 4   person_emp_length           39098 non-null  float64\n",
                        " 5   loan_intent                 39098 non-null  object \n",
                        " 6   loan_grade                  39098 non-null  object \n",
                        " 7   loan_amnt                   39098 non-null  int64  \n",
                        " 8   loan_int_rate               39098 non-null  float64\n",
                        " 9   loan_percent_income         39098 non-null  float64\n",
                        " 10  cb_person_default_on_file   39098 non-null  object \n",
                        " 11  cb_person_cred_hist_length  39098 non-null  int64  \n",
                        "dtypes: float64(3), int64(5), object(4)\n",
                        "memory usage: 3.6+ MB\n"
                    ]
                }
            ],
            "source": [
                "test.info()"
            ]
        },
        {
            "cell_type": "code",
            "execution_count": 30,
            "metadata": {},
            "outputs": [
                {
                    "data": {
                        "text/plain": [
                            "loan_status                   39098\n",
                            "id                                0\n",
                            "person_age                        0\n",
                            "person_income                     0\n",
                            "person_home_ownership             0\n",
                            "person_emp_length                 0\n",
                            "loan_intent                       0\n",
                            "loan_grade                        0\n",
                            "loan_amnt                         0\n",
                            "loan_int_rate                     0\n",
                            "loan_percent_income               0\n",
                            "cb_person_default_on_file         0\n",
                            "cb_person_cred_hist_length        0\n",
                            "dtype: int64"
                        ]
                    },
                    "execution_count": 30,
                    "metadata": {},
                    "output_type": "execute_result"
                }
            ],
            "source": [
                "data.isna().sum().sort_values(ascending=False)"
            ]
        },
        {
            "cell_type": "code",
            "execution_count": 31,
            "metadata": {},
            "outputs": [],
            "source": [
                "def show_missing_values(data, palette=\"viridis\"):\n",
                "    missing_values = data.isna().sum().sort_values(ascending=False)\n",
                "    sns.barplot(x=missing_values.values, y=missing_values.index,palette=palette)"
            ]
        },
        {
            "cell_type": "code",
            "execution_count": 35,
            "metadata": {},
            "outputs": [
                {
                    "data": {
                        "text/plain": [
                            "<Axes: xlabel='loan_status', ylabel='count'>"
                        ]
                    },
                    "execution_count": 35,
                    "metadata": {},
                    "output_type": "execute_result"
                },
                {
                    "data": {
                        "image/png": "[encoded data removed]",
                        "text/plain": [
                            "<Figure size 640x480 with 1 Axes>"
                        ]
                    },
                    "metadata": {},
                    "output_type": "display_data"
                }
            ],
            "source": [
                "sns.countplot(data, x=target_column)"
            ]
        }
    ],
    "metadata": {
        "kernelspec": {
            "display_name": "Python 3",
            "language": "python",
            "name": "python3"
        },
        "language_info": {
            "codemirror_mode": {
                "name": "ipython",
                "version": 3
            },
            "file_extension": ".py",
            "mimetype": "text/x-python",
            "name": "python",
            "nbconvert_exporter": "python",
            "pygments_lexer": "ipython3",
            "version": "3.12.3"
        }
    },
    "nbformat": 4,
    "nbformat_minor": 2
}
